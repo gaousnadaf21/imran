{
 "cells": [
  {
   "cell_type": "markdown",
   "id": "dde6dba6-9105-4d08-b92a-e7aba0510474",
   "metadata": {},
   "source": [
    "#Covert a iteger to a floatig-poit number"
   ]
  },
  {
   "cell_type": "code",
   "execution_count": 1,
   "id": "0aee0792-3ad8-4fa6-ae64-fe81123b35d1",
   "metadata": {},
   "outputs": [],
   "source": [
    "my_integer = (21)\n",
    "my_float = float(my_integer)"
   ]
  },
  {
   "cell_type": "code",
   "execution_count": 2,
   "id": "e82bd4a8-cc94-4825-b207-60b88be47133",
   "metadata": {},
   "outputs": [
    {
     "name": "stdout",
     "output_type": "stream",
     "text": [
      "21.0\n"
     ]
    }
   ],
   "source": [
    "print(my_float)"
   ]
  },
  {
   "cell_type": "code",
   "execution_count": 3,
   "id": "78a90436-7406-46f5-9f38-820355ab6d8b",
   "metadata": {},
   "outputs": [
    {
     "data": {
      "text/plain": [
       "float"
      ]
     },
     "execution_count": 3,
     "metadata": {},
     "output_type": "execute_result"
    }
   ],
   "source": [
    "type(my_float)"
   ]
  },
  {
   "cell_type": "markdown",
   "id": "1384146b-1f65-4db0-9336-f0a9f3472383",
   "metadata": {},
   "source": [
    "Covert a float to a integer"
   ]
  },
  {
   "cell_type": "code",
   "execution_count": 4,
   "id": "9ec50562-2af6-44f0-87bc-66270a8d87d7",
   "metadata": {},
   "outputs": [],
   "source": [
    "my_float = 21.22\n",
    "my_integer = int(my_float)"
   ]
  },
  {
   "cell_type": "code",
   "execution_count": 5,
   "id": "77432075-993e-4fd8-a390-5f1d47ec9790",
   "metadata": {},
   "outputs": [
    {
     "name": "stdout",
     "output_type": "stream",
     "text": [
      "21\n"
     ]
    }
   ],
   "source": [
    "print(my_integer)"
   ]
  },
  {
   "cell_type": "code",
   "execution_count": 6,
   "id": "f7b6c106-6b78-4028-a474-4d4c1c65822a",
   "metadata": {},
   "outputs": [
    {
     "data": {
      "text/plain": [
       "int"
      ]
     },
     "execution_count": 6,
     "metadata": {},
     "output_type": "execute_result"
    }
   ],
   "source": [
    "type(my_integer)"
   ]
  },
  {
   "cell_type": "markdown",
   "id": "44104c4f-81f3-45e4-ab21-675d9e2262e8",
   "metadata": {},
   "source": [
    "#Covert a iteger to a string"
   ]
  },
  {
   "cell_type": "code",
   "execution_count": 7,
   "id": "ef629004-b6ac-4115-ac33-645f5d236026",
   "metadata": {},
   "outputs": [],
   "source": [
    "my_integer = 333\n",
    "my_string = str(my_integer)"
   ]
  },
  {
   "cell_type": "code",
   "execution_count": 8,
   "id": "885e682a-52aa-43d0-827b-334199ec6838",
   "metadata": {},
   "outputs": [
    {
     "name": "stdout",
     "output_type": "stream",
     "text": [
      "333\n"
     ]
    }
   ],
   "source": [
    "print(my_string)"
   ]
  },
  {
   "cell_type": "code",
   "execution_count": 9,
   "id": "3d2b26cb-a7b7-4d35-b9da-d3a714037fcf",
   "metadata": {},
   "outputs": [
    {
     "data": {
      "text/plain": [
       "str"
      ]
     },
     "execution_count": 9,
     "metadata": {},
     "output_type": "execute_result"
    }
   ],
   "source": [
    "type(my_string)"
   ]
  },
  {
   "cell_type": "markdown",
   "id": "c2a8a060-65eb-4f58-8e58-012ff90e7b71",
   "metadata": {},
   "source": [
    "#Covert a list to a tuple"
   ]
  },
  {
   "cell_type": "code",
   "execution_count": 10,
   "id": "53ce7155-50e3-4b9a-8933-97ce2397ba5d",
   "metadata": {},
   "outputs": [],
   "source": [
    "my_list = [1,2,3,4,5]\n",
    "my_tuple = tuple(my_list)"
   ]
  },
  {
   "cell_type": "code",
   "execution_count": 11,
   "id": "14416c22-8f6d-400f-b1db-34005fa38bec",
   "metadata": {},
   "outputs": [
    {
     "name": "stdout",
     "output_type": "stream",
     "text": [
      "[1, 2, 3, 4, 5]\n"
     ]
    }
   ],
   "source": [
    "print(my_list)"
   ]
  },
  {
   "cell_type": "code",
   "execution_count": 12,
   "id": "bc5a64e7-c2a5-43be-89f1-a591c3bd62ab",
   "metadata": {},
   "outputs": [
    {
     "data": {
      "text/plain": [
       "tuple"
      ]
     },
     "execution_count": 12,
     "metadata": {},
     "output_type": "execute_result"
    }
   ],
   "source": [
    "type(my_tuple)"
   ]
  },
  {
   "cell_type": "markdown",
   "id": "ffa09475-6c6a-4ed1-b9d0-21265bfdd625",
   "metadata": {},
   "source": [
    "#Covert a tuple to a list"
   ]
  },
  {
   "cell_type": "code",
   "execution_count": 13,
   "id": "c611e95a-5689-4a74-bee2-77d0c80bff0b",
   "metadata": {},
   "outputs": [],
   "source": [
    "my_tuple = (1,2,3,4,5)\n",
    "my_list = list(my_tuple)"
   ]
  },
  {
   "cell_type": "code",
   "execution_count": 14,
   "id": "5ba1c7c7-ed6e-42f0-ac88-9fdeeab3eee5",
   "metadata": {},
   "outputs": [
    {
     "name": "stdout",
     "output_type": "stream",
     "text": [
      "[1, 2, 3, 4, 5]\n"
     ]
    }
   ],
   "source": [
    "print(my_list)"
   ]
  },
  {
   "cell_type": "code",
   "execution_count": 15,
   "id": "ed5baa23-9d0f-4a92-bba3-19137e357b51",
   "metadata": {},
   "outputs": [
    {
     "data": {
      "text/plain": [
       "list"
      ]
     },
     "execution_count": 15,
     "metadata": {},
     "output_type": "execute_result"
    }
   ],
   "source": [
    "type(my_list)"
   ]
  },
  {
   "cell_type": "markdown",
   "id": "62056395-8740-419b-82b8-f79781523d73",
   "metadata": {},
   "source": [
    "#Covert a decimal number to binary"
   ]
  },
  {
   "cell_type": "code",
   "execution_count": 16,
   "id": "108dd8d6-f69c-4f0e-9f27-0305488c1fff",
   "metadata": {},
   "outputs": [],
   "source": [
    "decimal_no = 10\n",
    "binary_no = bin(decimal_no)"
   ]
  },
  {
   "cell_type": "code",
   "execution_count": 21,
   "id": "63732c97-9d77-4b0c-80ba-31f3e0345b6e",
   "metadata": {},
   "outputs": [
    {
     "name": "stdout",
     "output_type": "stream",
     "text": [
      "0b1010\n"
     ]
    }
   ],
   "source": [
    "print(binary_no)"
   ]
  },
  {
   "cell_type": "markdown",
   "id": "6ab784da-9ded-49f3-b67d-2094d9840486",
   "metadata": {},
   "source": [
    "#Covert a non-zero number to boolean "
   ]
  },
  {
   "cell_type": "code",
   "execution_count": 23,
   "id": "01c14c2a-cb95-41a1-b430-7128828b990c",
   "metadata": {},
   "outputs": [],
   "source": [
    "my_value = 100\n",
    "my_boolean = bool(my_value)"
   ]
  },
  {
   "cell_type": "code",
   "execution_count": 24,
   "id": "38355e7d-1d9f-4ac0-b0c4-777fc4f2479d",
   "metadata": {},
   "outputs": [
    {
     "name": "stdout",
     "output_type": "stream",
     "text": [
      "True\n"
     ]
    }
   ],
   "source": [
    "print(my_boolean)"
   ]
  },
  {
   "cell_type": "code",
   "execution_count": 25,
   "id": "b269b1fb-bf9b-4cb6-a108-01e4dbb9712b",
   "metadata": {},
   "outputs": [
    {
     "data": {
      "text/plain": [
       "bool"
      ]
     },
     "execution_count": 25,
     "metadata": {},
     "output_type": "execute_result"
    }
   ],
   "source": [
    "type(my_boolean)"
   ]
  },
  {
   "cell_type": "code",
   "execution_count": null,
   "id": "76b84c3e-408c-4222-a04d-79aa9bd12e78",
   "metadata": {},
   "outputs": [],
   "source": []
  }
 ],
 "metadata": {
  "kernelspec": {
   "display_name": "Python 3 (ipykernel)",
   "language": "python",
   "name": "python3"
  },
  "language_info": {
   "codemirror_mode": {
    "name": "ipython",
    "version": 3
   },
   "file_extension": ".py",
   "mimetype": "text/x-python",
   "name": "python",
   "nbconvert_exporter": "python",
   "pygments_lexer": "ipython3",
   "version": "3.10.8"
  }
 },
 "nbformat": 4,
 "nbformat_minor": 5
}
